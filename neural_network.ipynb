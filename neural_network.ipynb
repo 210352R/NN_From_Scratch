{
 "cells": [
  {
   "cell_type": "code",
   "execution_count": 23,
   "metadata": {},
   "outputs": [],
   "source": [
    "import numpy as np\n",
    "import pandas as pd\n",
    "import matplotlib.pyplot as plt"
   ]
  },
  {
   "cell_type": "code",
   "execution_count": 24,
   "metadata": {},
   "outputs": [],
   "source": [
    "def ReLU(x):\n",
    "    return np.maximum(0, x)"
   ]
  },
  {
   "cell_type": "code",
   "execution_count": 25,
   "metadata": {},
   "outputs": [],
   "source": [
    "def softmax(x):\n",
    "    # exponents = np.exp(x)\n",
    "    # return exponents / np.sum(exponents, axis=0)\n",
    "\n",
    "    # Subtract the maximum value from x for numerical stability\n",
    "    shift_x = x - np.max(x, axis=0, keepdims=True)\n",
    "    exponents = np.exp(shift_x)\n",
    "    return exponents / np.sum(exponents, axis=0, keepdims=True)"
   ]
  },
  {
   "cell_type": "code",
   "execution_count": 26,
   "metadata": {},
   "outputs": [],
   "source": [
    "class SparseCategoricalCrossEntropy():\n",
    "    @staticmethod\n",
    "    def loss(y, y_pred, logits=True, epsilon=1e-35):\n",
    "        \"\"\"\n",
    "        Calculates and returns the loss of the prediction\n",
    "        Args:\n",
    "            y (np.array, shape=(1,m)) : The label of the output (range: 0 to n-1)\n",
    "            y_pred (np.array, shape=(n, m)) : The output probabilities\n",
    "\n",
    "        Returns:\n",
    "            loss (np.float) : The categorical cross entropy loss wrt to given predictions\n",
    "        \"\"\"\n",
    "\n",
    "        # Take each of the y values and convert to one hot vectors\n",
    "        y_expanded = np.zeros(y_pred.shape)\n",
    "        y_expanded[y, np.arange(y_expanded.shape[1])] = 1\n",
    "\n",
    "        if logits:\n",
    "            y_pred = softmax(y_pred)\n",
    "            gradient = y_pred - y_expanded\n",
    "        else:\n",
    "            gradient = (1 / y_pred ) * y_expanded\n",
    "        loss = -1 * np.sum(np.log(y_pred + epsilon) * y_expanded) / y_pred.shape[1]\n",
    "        \n",
    "        return loss, gradient\n",
    "    \n",
    "    @staticmethod\n",
    "    def gradient(y, y_pred):\n",
    "        \"\"\"\n",
    "        Returns the gradients of the loss wrt to the output probabilities\n",
    "        Args:\n",
    "            y (int) : The label of the output (range: 0 to n-1)\n",
    "            y_pred (np.array, shape=(n,)) : The output probabilities\n",
    "\n",
    "        Returns:\n",
    "            dL_dpred (array, shape=(n,)) : The gradients of loss wrt to the probabilities\n",
    "        \"\"\"\n",
    "\n",
    "        gradient = np.zeros(y_pred.shape)\n",
    "        gradient[y] = -1 / y_pred[y]\n",
    "\n",
    "        return gradient\n"
   ]
  },
  {
   "cell_type": "code",
   "execution_count": 27,
   "metadata": {},
   "outputs": [],
   "source": [
    "class NNLayer():\n",
    "    def __init__(self, input_shape, output_shape, activation=None, W=None, b=None, dtype=np.float64):\n",
    "        self.input_shape = input_shape\n",
    "        self.output_shape = output_shape\n",
    "        self.X = np.zeros(input_shape)\n",
    "        self.W = np.random.randn(input_shape, output_shape) if W is None else W\n",
    "        self.b = np.random.randn(output_shape, 1) if b is None else b\n",
    "        self.activation = activation # One of None, 'ReLU' or 'softmax'\n",
    "        self.dW = np.zeros(self.W.shape)\n",
    "        self.db = np.zeros(self.b.shape)\n",
    "        self.dz = np.zeros(self.output_shape)\n",
    "        self.a = 0\n",
    "\n",
    "        self.dtype = dtype\n",
    "\n",
    "\n",
    "    def display(self):\n",
    "         print(f\"This layer has an input shape of {self.input_shape}\")\n",
    "         print(f\"This layer has an output shape of {self.output_shape}\")\n",
    "         print(\"\\nThe Weights are, \")\n",
    "         print(self.W)\n",
    "         print(\"\\nThe biases are: \")\n",
    "         print(self.b)\n",
    "         print(\"\\nThe gradients of W are: \")\n",
    "         print(self.dW)\n",
    "         print(\"\\nThe gradients of b are: \")\n",
    "         print(self.db)\n",
    "\n",
    "\n",
    "    def forward(self, X, inference=False):\n",
    "        \"\"\"\n",
    "        Args:\n",
    "            X (np.array, 1 dimensional vector) : Input Vector, outptut of the previous NN layer\n",
    "\n",
    "        Returns:\n",
    "            W (np.array, 1 dimenstional vector) : The outputs of each neuron in the layer\n",
    "        \"\"\"\n",
    "\n",
    "        # Save the input, will be used during backpropogation\n",
    "        self.X = X if not inference else self.X\n",
    "\n",
    "        # Multiply the inputs by weights and add the bias\n",
    "        z = np.matmul(self.W.T, X) + self.b\n",
    "\n",
    "        # Apply the activation function\n",
    "        if self.activation == 'ReLU':\n",
    "            self.a = ReLU(z)\n",
    "        elif self.activation == 'softmax':\n",
    "            self.a = softmax(z)\n",
    "        else:\n",
    "            self.a = z\n",
    "            \n",
    "        return self.a\n",
    "    \n",
    "    def backward(self, gradient):\n",
    "        \"\"\"\n",
    "        Args:\n",
    "            gradient (np.array, 1 dimensional vector) : The gradient of loss wrt to the output of the layer dL/da \n",
    "        \n",
    "        Returns:\n",
    "            dL/dX (np.array, shape=(input_shape,)) : The gradient of loss wrt to the input of the layer\n",
    "        \"\"\"\n",
    "\n",
    "        ## 1. First compute the gradient of loss wrt to z\n",
    "        if self.activation == None:\n",
    "            dz = gradient.astype(np.float32)\n",
    "        elif self.activation == 'ReLU':\n",
    "            dz = (np.greater(self.a, 0) * gradient).astype(self.dtype)\n",
    "        else:\n",
    "            raise Exception(\"Activation funciton not found. Check the activation is either None or ReLU\")\n",
    "\n",
    "\n",
    "        ## 2. Use dL/dz to compute dw, db, dX\n",
    "        self.dW = np.matmul(self.X, dz.T).astype(self.dtype)\n",
    "        self.db = np.sum(dz, axis=1).reshape(-1, 1).astype(self.dtype)\n",
    "        dX = np.matmul(self.W, dz).astype(self.dtype)\n",
    "\n",
    "        return dX\n",
    "    \n",
    "    def update_parameters(self, training_samples, learning_rate):\n",
    "        ## Get the average of the gradients\n",
    "        self.dW = self.dW / training_samples\n",
    "        self.db = self.db / training_samples\n",
    "\n",
    "        ## Update\n",
    "        self.W -= learning_rate * self.dW\n",
    "        self.b -= learning_rate * self.db\n",
    "\n"
   ]
  },
  {
   "cell_type": "code",
   "execution_count": 28,
   "metadata": {},
   "outputs": [],
   "source": [
    "class FeedForwardNeuralNetwork():\n",
    "    def __init__(self):\n",
    "        self.layers = []\n",
    "    \n",
    "    def add_layer(self, layer):\n",
    "        self.layers.append(layer)\n",
    "\n",
    "    def train(self, X_train, y_train, X_test=None, y_test=None, epochs=100, learning_rate=0.1):\n",
    "        training_losses = []\n",
    "        training_accuracy = []\n",
    "        validation_losses = []\n",
    "        validation_accuracy = []\n",
    "        #### Training Loop\n",
    "        for epoch in range(epochs):\n",
    "            print(f\"Training ... Epoch: {epoch} | \", end=\" \")\n",
    "\n",
    "            ### Forward pass\n",
    "            a = X_train.copy()\n",
    "            for layer in self.layers:\n",
    "                a = layer.forward(a)\n",
    "\n",
    "            ### Calculate the loss\n",
    "            loss, gradient = SparseCategoricalCrossEntropy.loss(y=y_train, y_pred=a, logits=True)\n",
    "            training_losses.append(loss)\n",
    "\n",
    "            accuracy = np.mean(np.argmax(self.predict(X_train, apply_softmax=True), axis=0) == y_train)\n",
    "            training_accuracy.append(accuracy)\n",
    "\n",
    "            print(\"Loss: \", loss, \" | Accuracy: \", accuracy)\n",
    "\n",
    "            ### Backward pass\n",
    "            for layer in reversed(self.layers):\n",
    "                gradient = layer.backward(gradient)\n",
    "                layer.update_parameters(training_samples=X_train.shape[1], learning_rate=learning_rate)\n",
    "\n",
    "\n",
    "            ### Validation\n",
    "            if X_test is not None and y_test is not None:\n",
    "                ### Forward pass\n",
    "                a_test = X_test\n",
    "                for layer in self.layers:\n",
    "                    a_test = layer.forward(a_test, inference=True)\n",
    "\n",
    "                loss_test, _ = SparseCategoricalCrossEntropy.loss(y=y_test, y_pred=a_test, logits=True)\n",
    "                validation_losses.append(loss_test)\n",
    "\n",
    "                accuracy= np.mean(np.argmax(self.predict(X_test, apply_softmax=True), axis=0) == y_test)\n",
    "                validation_accuracy.append(accuracy)\n",
    "\n",
    "\n",
    "        return training_losses, validation_losses, training_accuracy, validation_accuracy\n",
    "\n",
    "\n",
    "    def predict(self, X, apply_softmax=False):\n",
    "        a = X\n",
    "        for layer in self.layers:\n",
    "            a = layer.forward(a, inference=True)\n",
    "\n",
    "        if apply_softmax:\n",
    "            a = softmax(a)\n",
    "        \n",
    "        return a\n",
    "\n",
    "            "
   ]
  },
  {
   "cell_type": "code",
   "execution_count": 29,
   "metadata": {},
   "outputs": [],
   "source": [
    "X_train_df = pd.read_csv('Task_2/x_train.csv', header=None)\n",
    "X_train = X_train_df.to_numpy().T\n",
    "\n",
    "y_train_df = pd.read_csv('Task_2/y_train.csv', header=None)\n",
    "y_train = y_train_df.to_numpy().squeeze()"
   ]
  },
  {
   "cell_type": "code",
   "execution_count": 30,
   "metadata": {},
   "outputs": [],
   "source": [
    "# X_train = np.array([\n",
    "#     [-1, 1, 1, 1, -1, -1, 1, -1, 1, 1, -1, -1, 1, 1],\n",
    "#     [-1, 1, 1, 1, -1, -1, 1, -1, 1, 1, -1, -1, 1, 1],\n",
    "#     [-1, 1, 1, 1, -1, -1, 1, -1, 1, 1, -1, -1, 1, 1]\n",
    "# ]).T\n",
    "# y_train = np.array([3,3,3])"
   ]
  },
  {
   "cell_type": "code",
   "execution_count": 31,
   "metadata": {},
   "outputs": [
    {
     "data": {
      "text/plain": [
       "((14, 13107), (13107,))"
      ]
     },
     "execution_count": 31,
     "metadata": {},
     "output_type": "execute_result"
    }
   ],
   "source": [
    "X_train.shape, y_train.shape"
   ]
  },
  {
   "cell_type": "code",
   "execution_count": 32,
   "metadata": {},
   "outputs": [],
   "source": [
    "X_test_df = pd.read_csv('Task_2/x_test.csv', header=None)\n",
    "X_test = X_test_df.to_numpy().T\n",
    "\n",
    "y_test_df = pd.read_csv('Task_2/y_test.csv', header=None)\n",
    "y_test = y_test_df.to_numpy().squeeze()"
   ]
  },
  {
   "cell_type": "code",
   "execution_count": 33,
   "metadata": {},
   "outputs": [
    {
     "data": {
      "text/plain": [
       "((14, 3277), (3277,))"
      ]
     },
     "execution_count": 33,
     "metadata": {},
     "output_type": "execute_result"
    }
   ],
   "source": [
    "X_test.shape, y_test.shape"
   ]
  },
  {
   "cell_type": "code",
   "execution_count": 34,
   "metadata": {},
   "outputs": [],
   "source": [
    "NUM_LAYERS = 4 # Inclusive of input and output layers\n",
    "LAYER_SIZES = [14, 100, 40, 4]\n",
    "\n",
    "np.random.seed(26)\n",
    "\n",
    "NN = FeedForwardNeuralNetwork()\n",
    "NN.add_layer(NNLayer(LAYER_SIZES[0], LAYER_SIZES[1], activation='ReLU'))\n",
    "NN.add_layer(NNLayer(LAYER_SIZES[1], LAYER_SIZES[2], activation='ReLU'))\n",
    "NN.add_layer(NNLayer(LAYER_SIZES[2], LAYER_SIZES[3]))\n"
   ]
  },
  {
   "cell_type": "code",
   "execution_count": 35,
   "metadata": {},
   "outputs": [
    {
     "name": "stdout",
     "output_type": "stream",
     "text": [
      "Training ... Epoch: 0 |  Loss:  49.687332139673934  | Accuracy:  0.2711528191042954\n",
      "Training ... Epoch: 1 |  Loss:  45.05547525579005  | Accuracy:  0.27222095063706414\n",
      "Training ... Epoch: 2 |  "
     ]
    },
    {
     "name": "stdout",
     "output_type": "stream",
     "text": [
      "Loss:  42.559115189662265  | Accuracy:  0.2739757381551843\n",
      "Training ... Epoch: 3 |  Loss:  40.863401377230154  | Accuracy:  0.2734416723887999\n",
      "Training ... Epoch: 4 |  Loss:  39.48607457737088  | Accuracy:  0.27664606698710614\n",
      "Training ... Epoch: 5 |  Loss:  38.27517144026227  | Accuracy:  0.2743572137026017\n",
      "Training ... Epoch: 6 |  Loss:  37.14937465691496  | Accuracy:  0.2743572137026017\n",
      "Training ... Epoch: 7 |  Loss:  36.142006636277834  | Accuracy:  0.2776379034103914\n",
      "Training ... Epoch: 8 |  Loss:  35.2440018005657  | Accuracy:  0.2767986572060731\n",
      "Training ... Epoch: 9 |  Loss:  34.413899547662176  | Accuracy:  0.2768749523155566\n",
      "Training ... Epoch: 10 |  Loss:  33.63961360832038  | Accuracy:  0.2790112153810941\n",
      "Training ... Epoch: 11 |  Loss:  32.911872127559  | Accuracy:  0.2809948882276646\n",
      "Training ... Epoch: 12 |  Loss:  32.21741252263513  | Accuracy:  0.2809948882276646\n",
      "Training ... Epoch: 13 |  Loss:  31.54539801946988  | Accuracy:  0.2830548561837186\n",
      "Training ... Epoch: 14 |  Loss:  30.900632446489126  | Accuracy:  0.28450446326390477\n",
      "Training ... Epoch: 15 |  Loss:  30.28341437666318  | Accuracy:  0.28465705348287174\n",
      "Training ... Epoch: 16 |  Loss:  29.694467334019453  | Accuracy:  0.2864881361104753\n",
      "Training ... Epoch: 17 |  Loss:  29.13181706339591  | Accuracy:  0.2887006942854963\n",
      "Training ... Epoch: 18 |  Loss:  28.59047817691468  | Accuracy:  0.29022659647516597\n",
      "Training ... Epoch: 19 |  Loss:  28.071562447728557  | Accuracy:  0.2909132524605173\n",
      "Training ... Epoch: 20 |  Loss:  27.57299017411126  | Accuracy:  0.2926680399786374\n",
      "Training ... Epoch: 21 |  Loss:  27.092443535748117  | Accuracy:  0.29404135194934006\n",
      "Training ... Epoch: 22 |  Loss:  26.630058018202757  | Accuracy:  0.2951094834821088\n",
      "Training ... Epoch: 23 |  Loss:  26.1857745188673  | Accuracy:  0.29579613946746014\n",
      "Training ... Epoch: 24 |  Loss:  25.758171372864442  | Accuracy:  0.29747463187609674\n",
      "Training ... Epoch: 25 |  Loss:  25.345221635946857  | Accuracy:  0.29777981231403067\n",
      "Training ... Epoch: 26 |  Loss:  24.94647289496045  | Accuracy:  0.2985427634088655\n",
      "Training ... Epoch: 27 |  Loss:  24.56135767241847  | Accuracy:  0.3002212558175021\n",
      "Training ... Epoch: 28 |  Loss:  24.1888054632307  | Accuracy:  0.30045014114595253\n",
      "Training ... Epoch: 29 |  Loss:  23.82667423841622  | Accuracy:  0.30197604333562217\n",
      "Training ... Epoch: 30 |  Loss:  23.47502487161998  | Accuracy:  0.30281528953994047\n",
      "Training ... Epoch: 31 |  Loss:  23.133393901758094  | Accuracy:  0.30556191348134587\n",
      "Training ... Epoch: 32 |  Loss:  22.801991979705047  | Accuracy:  0.30647745479514765\n",
      "Training ... Epoch: 33 |  Loss:  22.48074834257764  | Accuracy:  0.307011520561532\n",
      "Training ... Epoch: 34 |  Loss:  22.168915422744078  | Accuracy:  0.3084611276417182\n",
      "Training ... Epoch: 35 |  Loss:  21.865700608958647  | Accuracy:  0.3096818493934539\n",
      "Training ... Epoch: 36 |  Loss:  21.56958078642499  | Accuracy:  0.3116655222400244\n",
      "Training ... Epoch: 37 |  Loss:  21.27978541835166  | Accuracy:  0.313344014648661\n",
      "Training ... Epoch: 38 |  Loss:  20.996712233257195  | Accuracy:  0.31448844129091325\n",
      "Training ... Epoch: 39 |  Loss:  20.71996916108404  | Accuracy:  0.3163195239185168\n",
      "Training ... Epoch: 40 |  Loss:  20.449280937463087  | Accuracy:  0.3173113603418021\n",
      "Training ... Epoch: 41 |  Loss:  20.184606390548577  | Accuracy:  0.3183794918745708\n",
      "Training ... Epoch: 42 |  Loss:  19.925741733391487  | Accuracy:  0.3189898527504387\n",
      "Training ... Epoch: 43 |  Loss:  19.672540389354747  | Accuracy:  0.31952391851682305\n",
      "Training ... Epoch: 44 |  Loss:  19.424491765379607  | Accuracy:  0.32028686961165787\n",
      "Training ... Epoch: 45 |  Loss:  19.18156818098873  | Accuracy:  0.322041657129778\n",
      "Training ... Epoch: 46 |  Loss:  18.943305779058438  | Accuracy:  0.32227054245822845\n",
      "Training ... Epoch: 47 |  Loss:  18.709431918674163  | Accuracy:  0.3234149691004807\n",
      "Training ... Epoch: 48 |  Loss:  18.479708868622247  | Accuracy:  0.32402532997634853\n",
      "Training ... Epoch: 49 |  Loss:  18.253911717810727  | Accuracy:  0.3246356908522164\n",
      "Training ... Epoch: 50 |  Loss:  18.03203613364096  | Accuracy:  0.32608529793240254\n",
      "Training ... Epoch: 51 |  Loss:  17.813574511561917  | Accuracy:  0.3266956588082704\n",
      "Training ... Epoch: 52 |  Loss:  17.599037724550843  | Accuracy:  0.32806897077897307\n",
      "Training ... Epoch: 53 |  Loss:  17.388034907262515  | Accuracy:  0.3286793316548409\n",
      "Training ... Epoch: 54 |  Loss:  17.180392545554277  | Accuracy:  0.3292896925307088\n",
      "Training ... Epoch: 55 |  Loss:  16.97605757499579  | Accuracy:  0.32990005340657663\n",
      "Training ... Epoch: 56 |  Loss:  16.77488721543941  | Accuracy:  0.3305104142824445\n",
      "Training ... Epoch: 57 |  Loss:  16.577251039879414  | Accuracy:  0.3312733653772793\n",
      "Training ... Epoch: 58 |  Loss:  16.38267527448799  | Accuracy:  0.3313496604867628\n",
      "Training ... Epoch: 59 |  Loss:  16.19132760196619  | Accuracy:  0.3311970702677958\n",
      "Training ... Epoch: 60 |  Loss:  16.003127352305366  | Accuracy:  0.33157854581521323\n",
      "Training ... Epoch: 61 |  Loss:  15.818112475981502  | Accuracy:  0.33241779201953153\n",
      "Training ... Epoch: 62 |  Loss:  15.636088346491624  | Accuracy:  0.33409628442816813\n",
      "Training ... Epoch: 63 |  Loss:  15.45678560978971  | Accuracy:  0.3351644159609369\n",
      "Training ... Epoch: 64 |  Loss:  15.2801842047046  | Accuracy:  0.3366140230411231\n",
      "Training ... Epoch: 65 |  Loss:  15.106193997032518  | Accuracy:  0.337071793698024\n",
      "Training ... Epoch: 66 |  Loss:  14.935058537333935  | Accuracy:  0.3382162203402762\n",
      "Training ... Epoch: 67 |  Loss:  14.766605381059007  | Accuracy:  0.33936064698252844\n",
      "Training ... Epoch: 68 |  Loss:  14.600880899412147  | Accuracy:  0.3403524834058137\n",
      "Training ... Epoch: 69 |  Loss:  14.437693597604113  | Accuracy:  0.34096284428168155\n",
      "Training ... Epoch: 70 |  Loss:  14.27687424849556  | Accuracy:  0.34180209048599985\n",
      "Training ... Epoch: 71 |  Loss:  14.11855558958529  | Accuracy:  0.34225986114290075\n",
      "Training ... Epoch: 72 |  Loss:  13.962779659791462  | Accuracy:  0.3428702220187686\n",
      "Training ... Epoch: 73 |  Loss:  13.80917847820082  | Accuracy:  0.34393835355153735\n",
      "Training ... Epoch: 74 |  Loss:  13.657621073819035  | Accuracy:  0.3449301899748226\n",
      "Training ... Epoch: 75 |  Loss:  13.508118490371372  | Accuracy:  0.34561684596017395\n",
      "Training ... Epoch: 76 |  Loss:  13.360459774958475  | Accuracy:  0.3469901579308766\n",
      "Training ... Epoch: 77 |  Loss:  13.214802979026373  | Accuracy:  0.34805828946364537\n",
      "Training ... Epoch: 78 |  Loss:  13.071096808452541  | Accuracy:  0.34851606012054626\n",
      "Training ... Epoch: 79 |  Loss:  12.929562135539907  | Accuracy:  0.349584191653315\n",
      "Training ... Epoch: 80 |  Loss:  12.790117281945143  | Accuracy:  0.3504234378576333\n",
      "Training ... Epoch: 81 |  Loss:  12.65264545011476  | Accuracy:  0.3509575036240177\n",
      "Training ... Epoch: 82 |  Loss:  12.516983216718167  | Accuracy:  0.3513389791714351\n",
      "Training ... Epoch: 83 |  Loss:  12.383278559611396  | Accuracy:  0.35263599603265433\n",
      "Training ... Epoch: 84 |  Loss:  12.251468112519031  | Accuracy:  0.3540856031128405\n",
      "Training ... Epoch: 85 |  Loss:  12.12146877974875  | Accuracy:  0.3545433737697414\n",
      "Training ... Epoch: 86 |  Loss:  11.993114737970815  | Accuracy:  0.35599298084992753\n",
      "Training ... Epoch: 87 |  Loss:  11.866464565050816  | Accuracy:  0.3561455710688945\n",
      "Training ... Epoch: 88 |  Loss:  11.741507347359578  | Accuracy:  0.35759517814908065\n",
      "Training ... Epoch: 89 |  Loss:  11.618201836085083  | Accuracy:  0.3585870145723659\n",
      "Training ... Epoch: 90 |  Loss:  11.496671183597645  | Accuracy:  0.3595788509956512\n",
      "Training ... Epoch: 91 |  Loss:  11.37696425019259  | Accuracy:  0.360341802090486\n",
      "Training ... Epoch: 92 |  Loss:  11.258739757771986  | Accuracy:  0.3616388189517052\n",
      "Training ... Epoch: 93 |  Loss:  11.142101675104422  | Accuracy:  0.3629358358129244\n",
      "Training ... Epoch: 94 |  Loss:  11.027018472316009  | Accuracy:  0.3636224917982757\n",
      "Training ... Epoch: 95 |  Loss:  10.91380209578939  | Accuracy:  0.36476691844052794\n",
      "Training ... Epoch: 96 |  Loss:  10.802145702863731  | Accuracy:  0.3654535744258793\n",
      "Training ... Epoch: 97 |  Loss:  10.69203674507713  | Accuracy:  0.3657587548638132\n",
      "Training ... Epoch: 98 |  Loss:  10.58327684290876  | Accuracy:  0.36636911573968106\n",
      "Training ... Epoch: 99 |  Loss:  10.475780881302159  | Accuracy:  0.36675059128709847\n",
      "Training ... Epoch: 100 |  Loss:  10.369839319987783  | Accuracy:  0.36743724727244986\n",
      "Training ... Epoch: 101 |  Loss:  10.265131980122579  | Accuracy:  0.3681239032578012\n",
      "Training ... Epoch: 102 |  Loss:  10.161786970534852  | Accuracy:  0.368886854352636\n",
      "Training ... Epoch: 103 |  Loss:  10.059683081915038  | Accuracy:  0.3694209201190204\n",
      "Training ... Epoch: 104 |  Loss:  9.958587574453151  | Accuracy:  0.3701075761043717\n",
      "Training ... Epoch: 105 |  Loss:  9.858427251674414  | Accuracy:  0.3710231174181735\n",
      "Training ... Epoch: 106 |  Loss:  9.759368064091529  | Accuracy:  0.37163347829404136\n",
      "Training ... Epoch: 107 |  Loss:  9.661638321290836  | Accuracy:  0.37254901960784315\n",
      "Training ... Epoch: 108 |  Loss:  9.564969578446393  | Accuracy:  0.37293049515526056\n",
      "Training ... Epoch: 109 |  Loss:  9.469282450822755  | Accuracy:  0.3735408560311284\n",
      "Training ... Epoch: 110 |  Loss:  9.374977834429442  | Accuracy:  0.3747615777828641\n",
      "Training ... Epoch: 111 |  Loss:  9.281750782438872  | Accuracy:  0.37460898756389716\n",
      "Training ... Epoch: 112 |  Loss:  9.18960137876923  | Accuracy:  0.3745326924544137\n",
      "Training ... Epoch: 113 |  Loss:  9.098475210785756  | Accuracy:  0.37582970931563286\n",
      "Training ... Epoch: 114 |  Loss:  9.008418681773172  | Accuracy:  0.3764400701915007\n",
      "Training ... Epoch: 115 |  Loss:  8.91953102733434  | Accuracy:  0.37666895551995117\n",
      "Training ... Epoch: 116 |  Loss:  8.831701618202974  | Accuracy:  0.37766079194323643\n",
      "Training ... Epoch: 117 |  Loss:  8.744618588904974  | Accuracy:  0.37796597238117036\n",
      "Training ... Epoch: 118 |  Loss:  8.658443629087586  | Accuracy:  0.37880521858548866\n",
      "Training ... Epoch: 119 |  Loss:  8.573389081137412  | Accuracy:  0.3795681696803235\n",
      "Training ... Epoch: 120 |  Loss:  8.489333372632723  | Accuracy:  0.37972075989929044\n",
      "Training ... Epoch: 121 |  Loss:  8.40605276435599  | Accuracy:  0.3807888914320592\n",
      "Training ... Epoch: 122 |  Loss:  8.323621280725257  | Accuracy:  0.3812466620889601\n",
      "Training ... Epoch: 123 |  Loss:  8.242204677606816  | Accuracy:  0.3819333180743114\n",
      "Training ... Epoch: 124 |  Loss:  8.161626091394252  | Accuracy:  0.3827725642786297\n",
      "Training ... Epoch: 125 |  Loss:  8.081818920925148  | Accuracy:  0.3830777447165637\n",
      "Training ... Epoch: 126 |  Loss:  8.002947174705696  | Accuracy:  0.3830014496070802\n",
      "Training ... Epoch: 127 |  Loss:  7.924998323735805  | Accuracy:  0.38368810559243155\n",
      "Training ... Epoch: 128 |  Loss:  7.847938123167469  | Accuracy:  0.38414587624933244\n",
      "Training ... Epoch: 129 |  Loss:  7.771830915016799  | Accuracy:  0.38490882734416726\n",
      "Training ... Epoch: 130 |  Loss:  7.696629856256296  | Accuracy:  0.38544289311055163\n",
      "Training ... Epoch: 131 |  Loss:  7.622182700268378  | Accuracy:  0.38612954909590297\n",
      "Training ... Epoch: 132 |  Loss:  7.548596993726014  | Accuracy:  0.3865110246433204\n",
      "Training ... Epoch: 133 |  Loss:  7.475907646752093  | Accuracy:  0.3873502708476387\n",
      "Training ... Epoch: 134 |  Loss:  7.40392322105376  | Accuracy:  0.3881132219424735\n",
      "Training ... Epoch: 135 |  Loss:  7.332745496809654  | Accuracy:  0.38918135347524224\n",
      "Training ... Epoch: 136 |  Loss:  7.262393161512075  | Accuracy:  0.38994430457007706\n",
      "Training ... Epoch: 137 |  Loss:  7.192756211464577  | Accuracy:  0.3907072556649119\n",
      "Training ... Epoch: 138 |  Loss:  7.123808793523585  | Accuracy:  0.3913939116502632\n",
      "Training ... Epoch: 139 |  Loss:  7.055521888517259  | Accuracy:  0.39253833829251544\n",
      "Training ... Epoch: 140 |  Loss:  6.987956400662198  | Accuracy:  0.3939116502632181\n",
      "Training ... Epoch: 141 |  Loss:  6.921197639186681  | Accuracy:  0.3951323720149538\n",
      "Training ... Epoch: 142 |  Loss:  6.8551363766227205  | Accuracy:  0.3956664377813382\n",
      "Training ... Epoch: 143 |  Loss:  6.789816969440993  | Accuracy:  0.39581902800030516\n",
      "Training ... Epoch: 144 |  Loss:  6.7251386653843666  | Accuracy:  0.3969634546425574\n",
      "Training ... Epoch: 145 |  Loss:  6.6612151727681175  | Accuracy:  0.39795529106584265\n",
      "Training ... Epoch: 146 |  Loss:  6.598026299820076  | Accuracy:  0.398794537270161\n",
      "Training ... Epoch: 147 |  Loss:  6.535576803967862  | Accuracy:  0.3991760128175784\n",
      "Training ... Epoch: 148 |  Loss:  6.473846163033243  | Accuracy:  0.4000152590218967\n",
      "Training ... Epoch: 149 |  Loss:  6.412659801498016  | Accuracy:  0.40108339055466546\n"
     ]
    }
   ],
   "source": [
    "EPOCHS = 150\n",
    "training_losses, validation_losses, training_accuracy, validation_accuracy = NN.train(X_train=X_train,\n",
    "                                              y_train=y_train,\n",
    "                                              X_test=X_test,\n",
    "                                              y_test=y_test, \n",
    "                                              epochs=EPOCHS,\n",
    "                                              learning_rate=0.01)"
   ]
  },
  {
   "cell_type": "code",
   "execution_count": 36,
   "metadata": {},
   "outputs": [
    {
     "data": {
      "text/plain": [
       "Text(0.5, 1.0, 'Training and Validation Loss')"
      ]
     },
     "execution_count": 36,
     "metadata": {},
     "output_type": "execute_result"
    },
    {
     "data": {
      "image/png": "[encoded data removed]",
      "text/plain": [
       "<Figure size 640x480 with 1 Axes>"
      ]
     },
     "metadata": {},
     "output_type": "display_data"
    }
   ],
   "source": [
    "x = np.arange(EPOCHS)\n",
    "\n",
    "plt.plot(x, training_losses, label='Training Loss')\n",
    "plt.plot(x, validation_losses, label='Validation Loss')\n",
    "plt.xlabel('Epoch')\n",
    "plt.ylabel('Loss')\n",
    "plt.legend()\n",
    "plt.title('Training and Validation Loss')"
   ]
  },
  {
   "cell_type": "code",
   "execution_count": 37,
   "metadata": {},
   "outputs": [
    {
     "data": {
      "text/plain": [
       "Text(0.5, 1.0, 'Training and Validation Accuracy')"
      ]
     },
     "execution_count": 37,
     "metadata": {},
     "output_type": "execute_result"
    },
    {
     "data": {
      "image/png": "[encoded data removed]",
      "text/plain": [
       "<Figure size 640x480 with 1 Axes>"
      ]
     },
     "metadata": {},
     "output_type": "display_data"
    }
   ],
   "source": [
    "plt.plot(x, training_accuracy, label='Training Accuracy')\n",
    "plt.plot(x, validation_accuracy, label='Validation Accuracy')\n",
    "plt.xlabel('Epoch')\n",
    "plt.ylabel('Accuracy')\n",
    "plt.legend()\n",
    "plt.title('Training and Validation Accuracy')"
   ]
  },
  {
   "cell_type": "code",
   "execution_count": 38,
   "metadata": {},
   "outputs": [],
   "source": [
    "# # initial_weights = pd.read_csv('Task_1/b/w-100-40-4.csv', header=None)\n",
    "# initial_weights = pd.read_csv('Task_1/a/w.csv', header=None)\n",
    "# # initial_biases = initial_weights = pd.read_csv('Task_1/b/b-100-40-4.csv', header=None)\n",
    "# initial_biases = pd.read_csv('Task_1/a/b.csv', header=None)\n",
    "# X_train = np.array([-1, 1, 1, 1, -1, -1, 1, -1, 1, 1, -1, -1, 1, 1]) # As given in data_point.txt\n",
    "# w1 = initial_weights.iloc[0:14, 1:].to_numpy().astype(np.float32)\n",
    "# w2 = initial_weights.iloc[14:114, 1:41].to_numpy().astype(np.float32)\n",
    "# w3 = initial_weights.iloc[114:, 1:5].to_numpy().astype(np.float32)\n",
    "# b1 = initial_biases.iloc[0, 1:].to_numpy().reshape(-1,1).astype(np.float32)\n",
    "# b2 = initial_biases.iloc[1, 1:41].to_numpy().reshape(-1,1).astype(np.float32)\n",
    "# b3 = initial_biases.iloc[2, 1:5].to_numpy().reshape(-1,1).astype(np.float32)"
   ]
  },
  {
   "cell_type": "code",
   "execution_count": 39,
   "metadata": {},
   "outputs": [],
   "source": [
    "# NUM_LAYERS = 4 # Inclusive of input and output layers\n",
    "# LAYER_SIZES = [14, 100, 40, 4]\n",
    "\n",
    "# NN = FeedForwardNeuralNetwork()\n",
    "# NN.add_layer(NNLayer(LAYER_SIZES[0], LAYER_SIZES[1], W=w1, b=b1, activation='ReLU'))\n",
    "# NN.add_layer(NNLayer(LAYER_SIZES[1], LAYER_SIZES[2], W=w2, b=b2, activation='ReLU'))\n",
    "# NN.add_layer(NNLayer(LAYER_SIZES[2], LAYER_SIZES[3], W=w3, b=b3))"
   ]
  },
  {
   "cell_type": "code",
   "execution_count": 40,
   "metadata": {},
   "outputs": [
    {
     "data": {
      "text/plain": [
       "(3, 3)"
      ]
     },
     "execution_count": 40,
     "metadata": {},
     "output_type": "execute_result"
    }
   ],
   "source": [
    "np.argmax(NN.predict(X_train[:, 0].reshape(14,1), apply_softmax=True)), y_train[0]"
   ]
  },
  {
   "cell_type": "code",
   "execution_count": 41,
   "metadata": {},
   "outputs": [
    {
     "data": {
      "text/plain": [
       "(32.88805182310379,\n",
       " array([[-0.99999853],\n",
       "        [-0.99999992],\n",
       "        [-0.95397   ],\n",
       "        [-0.04603156]]))"
      ]
     },
     "execution_count": 41,
     "metadata": {},
     "output_type": "execute_result"
    }
   ],
   "source": [
    "SparseCategoricalCrossEntropy.loss(y_train, NN.predict(X_train[:, 0].reshape(14,1), apply_softmax=False))"
   ]
  },
  {
   "cell_type": "code",
   "execution_count": 42,
   "metadata": {},
   "outputs": [
    {
     "data": {
      "text/plain": [
       "5264"
      ]
     },
     "execution_count": 42,
     "metadata": {},
     "output_type": "execute_result"
    }
   ],
   "source": [
    "correct = 0\n",
    "for i in range (X_train.shape[1]):\n",
    "    correct += np.argmax(NN.predict(X_train[:, i].reshape(14,1), apply_softmax=True)) == y_train[i]\n",
    "correct"
   ]
  },
  {
   "cell_type": "code",
   "execution_count": 43,
   "metadata": {},
   "outputs": [
    {
     "data": {
      "text/plain": [
       "5264"
      ]
     },
     "execution_count": 43,
     "metadata": {},
     "output_type": "execute_result"
    }
   ],
   "source": [
    "\n",
    "np.sum(np.argmax(NN.predict(X_train.reshape(14,-1), apply_softmax=True), axis=0) == y_train)\n"
   ]
  },
  {
   "cell_type": "code",
   "execution_count": 44,
   "metadata": {},
   "outputs": [
    {
     "data": {
      "text/plain": [
       "1275"
      ]
     },
     "execution_count": 44,
     "metadata": {},
     "output_type": "execute_result"
    }
   ],
   "source": [
    "np.sum(np.argmax(NN.predict(X_test.reshape(14,-1), apply_softmax=True), axis=0) == y_test)"
   ]
  },
  {
   "cell_type": "code",
   "execution_count": null,
   "metadata": {},
   "outputs": [],
   "source": []
  }
 ],
 "metadata": {
  "kernelspec": {
   "display_name": "ml-venv",
   "language": "python",
   "name": "python3"
  },
  "language_info": {
   "codemirror_mode": {
    "name": "ipython",
    "version": 3
   },
   "file_extension": ".py",
   "mimetype": "text/x-python",
   "name": "python",
   "nbconvert_exporter": "python",
   "pygments_lexer": "ipython3",
   "version": "3.11.7"
  }
 },
 "nbformat": 4,
 "nbformat_minor": 2
}
